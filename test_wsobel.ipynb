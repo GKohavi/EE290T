{
 "cells": [
  {
   "cell_type": "code",
   "execution_count": 6,
   "metadata": {},
   "outputs": [],
   "source": [
    "## Imports ##\n",
    "#------------------------------------------------#\n",
    "import torch\n",
    "import torch.nn as nn\n",
    "import torch.nn.functional as F\n",
    "from torch.utils.data import Dataset, DataLoader\n",
    "import torch.optim as optim\n",
    "import torch.autograd as autograd\n",
    "#------------------------------------------------#\n",
    "import matplotlib.pyplot as plt\n",
    "import numpy as np\n",
    "from time import time\n",
    "import math\n",
    "from scipy import ndimage, misc\n",
    "import os\n",
    "import sys\n",
    "from tqdm import tqdm_notebook as tqdm\n",
    "#------------------------------------------------#\n",
    "from data import Dataset\n",
    "from train_isola import SiameseNetwork"
   ]
  },
  {
   "cell_type": "code",
   "execution_count": 2,
   "metadata": {},
   "outputs": [],
   "source": [
    "def rmd(img): # ReMove Depth channel\n",
    "    return img[:,:3,:,:]"
   ]
  },
  {
   "cell_type": "code",
   "execution_count": 20,
   "metadata": {},
   "outputs": [],
   "source": [
    "is_depth = True\n",
    "\n",
    "if is_depth:\n",
    "    model = torch.load('model_isola_graddepth').cuda()\n",
    "else:    \n",
    "    model = torch.load('model_isola_nodepth').cuda()\n",
    "\n",
    "#Testing\n",
    "batch_size = 256\n",
    "device = 'cuda'\n",
    "accuracy = []\n",
    "trainset = Dataset(train=False, split_size=.8)\n",
    "trainloader = DataLoader(dataset=trainset, batch_size=batch_size)"
   ]
  },
  {
   "cell_type": "code",
   "execution_count": 21,
   "metadata": {},
   "outputs": [
    {
     "data": {
      "application/vnd.jupyter.widget-view+json": {
       "model_id": "a10faf12fc884d15bb655d8ed52f15c5",
       "version_major": 2,
       "version_minor": 0
      },
      "text/plain": [
       "HBox(children=(IntProgress(value=0, max=5), HTML(value='')))"
      ]
     },
     "metadata": {},
     "output_type": "display_data"
    },
    {
     "data": {
      "application/vnd.jupyter.widget-view+json": {
       "model_id": "33f60979998a4875be3bcbbee1f33640",
       "version_major": 2,
       "version_minor": 0
      },
      "text/plain": [
       "HBox(children=(IntProgress(value=1, bar_style='info', max=1), HTML(value='')))"
      ]
     },
     "metadata": {},
     "output_type": "display_data"
    },
    {
     "data": {
      "application/vnd.jupyter.widget-view+json": {
       "model_id": "a0cf7806f1274f949e5128120f53c590",
       "version_major": 2,
       "version_minor": 0
      },
      "text/plain": [
       "HBox(children=(IntProgress(value=1, bar_style='info', max=1), HTML(value='')))"
      ]
     },
     "metadata": {},
     "output_type": "display_data"
    },
    {
     "data": {
      "application/vnd.jupyter.widget-view+json": {
       "model_id": "c422738e81504c5fb9b2a7f6b4e1c3cd",
       "version_major": 2,
       "version_minor": 0
      },
      "text/plain": [
       "HBox(children=(IntProgress(value=1, bar_style='info', max=1), HTML(value='')))"
      ]
     },
     "metadata": {},
     "output_type": "display_data"
    },
    {
     "data": {
      "application/vnd.jupyter.widget-view+json": {
       "model_id": "13e231117f9d423ea1a3afa8c1142723",
       "version_major": 2,
       "version_minor": 0
      },
      "text/plain": [
       "HBox(children=(IntProgress(value=1, bar_style='info', max=1), HTML(value='')))"
      ]
     },
     "metadata": {},
     "output_type": "display_data"
    },
    {
     "data": {
      "application/vnd.jupyter.widget-view+json": {
       "model_id": "c827c73f42d7459daed0e78f1a203349",
       "version_major": 2,
       "version_minor": 0
      },
      "text/plain": [
       "HBox(children=(IntProgress(value=1, bar_style='info', max=1), HTML(value='')))"
      ]
     },
     "metadata": {},
     "output_type": "display_data"
    },
    {
     "name": "stdout",
     "output_type": "stream",
     "text": [
      "Accuracy: 0.7686553030303032\n"
     ]
    }
   ],
   "source": [
    "model.eval()\n",
    "with torch.no_grad():\n",
    "    for epoch in tqdm(range(5)):\n",
    "        for i, (a, b, c) in tqdm(enumerate(trainloader)):\n",
    "            ap = torch.FloatTensor(ndimage.sobel(a[:,:,:,-1])).unsqueeze(3).to(device).type(torch.float32)\n",
    "            bp = torch.FloatTensor(ndimage.sobel(b[:,:,:,-1])).unsqueeze(3).to(device).type(torch.float32)\n",
    "            a, b, c = (a.permute(0,3,1,2).to(device).type(torch.float32), \n",
    "                       b.permute(0,3,1,2).to(device).type(torch.float32), c.to(device).type(torch.float)) #for contrastive loss it is 0 for matching pairs\t\n",
    "            model.zero_grad()\n",
    "            ap, bp = ap.permute(0,3,1,2), bp.permute(0,3,1,2)\n",
    "            a = torch.cat([a[:,:3,:,:], ap], dim=1)\n",
    "            b = torch.cat([b[:,:3,:,:], bp], dim=1)\n",
    "            pred_c = model(a, b)\n",
    "            pred_c = list(torch.round(pred_c).cpu().numpy())\n",
    "            \n",
    "            c = list(c.cpu().numpy())\n",
    "            accuracy.append(sum([1 for x, y in zip(pred_c, c) if x == y]) / len(c))\n",
    "    print('Accuracy:', sum(accuracy) / len(accuracy))"
   ]
  },
  {
   "cell_type": "code",
   "execution_count": 16,
   "metadata": {},
   "outputs": [
    {
     "data": {
      "text/plain": [
       "0.622"
      ]
     },
     "execution_count": 16,
     "metadata": {},
     "output_type": "execute_result"
    }
   ],
   "source": [
    "1-.378"
   ]
  },
  {
   "cell_type": "code",
   "execution_count": null,
   "metadata": {},
   "outputs": [],
   "source": []
  }
 ],
 "metadata": {
  "kernelspec": {
   "display_name": "Python 3",
   "language": "python",
   "name": "python3"
  },
  "language_info": {
   "codemirror_mode": {
    "name": "ipython",
    "version": 3
   },
   "file_extension": ".py",
   "mimetype": "text/x-python",
   "name": "python",
   "nbconvert_exporter": "python",
   "pygments_lexer": "ipython3",
   "version": "3.6.5"
  }
 },
 "nbformat": 4,
 "nbformat_minor": 2
}
